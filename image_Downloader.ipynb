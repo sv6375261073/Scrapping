{
 "cells": [
  {
   "cell_type": "code",
   "execution_count": 6,
   "metadata": {},
   "outputs": [],
   "source": [
    "from PIL import Image\n",
    "import urllib\n",
    "from bs4 import BeautifulSoup\n",
    "import numpy as np\n",
    "from selenium import webdriver\n",
    "from selenium.webdriver.common.keys import Keys\n",
    "import time,os"
   ]
  },
  {
   "cell_type": "code",
   "execution_count": 10,
   "metadata": {},
   "outputs": [],
   "source": [
    "total_urls=[]\n",
    "titles=[]\n",
    "# Saving all exteracted images \n",
    "\n",
    "def save_images(urls,titles,query):\n",
    "    image=[]\n",
    "    if not os.path.exists(query): # check existence of file \n",
    "        os.makedirs(query)\n",
    "#     n=int(input(\" Enter no of titles to download out of \"+str(len(urls))+\"  : \")) # n topic download \n",
    "    for title,urllist in zip(titles[:1],urls[:1]):\n",
    "        if title !='Home':\n",
    "            title=str(title['aria-label']) # naming folder based on topic on google \n",
    "        print('Downloading  : '+title+' under '+query)\n",
    "        for i,url in enumerate(urllist):\n",
    "            if not os.path.exists(query+'/'+title):\n",
    "                os.makedirs(query+'/'+title)\n",
    "            try:\n",
    "                image=Image.open(urllib.request.urlopen(url['src'])) # opening url of image \n",
    "            except:\n",
    "                try:\n",
    "                    image=Image.open(urllib.request.urlopen(url['data-src']))\n",
    "                except:\n",
    "                    pass\n",
    "            if len(np.array(image))>0:\n",
    "                try:\n",
    "                    image.save(query+'/'+title+'/'+url['alt']+str(i)+'.png') # saving image into topic folder \n",
    "                except:\n",
    "                    pass\n",
    "        print(\"Saved image : \"+str(i))\n",
    "        \n",
    "                \n",
    "# scrolling and going upto last image then scrapping all urls of images \n",
    "def images(browser):  # scroll upto end of page for any topic of image \n",
    "    found=1\n",
    "    while(found):\n",
    "        try:\n",
    "            count=0\n",
    "            while(count<6): # button show more results n page consist upto 6 scroll \n",
    "                try:\n",
    "                    browser.execute_script(\"window.scrollTo(0,document.body.scrollHeight)\")\n",
    "                    time.sleep(5)\n",
    "                except:\n",
    "                    pass\n",
    "                count+=1\n",
    "            time.sleep(3)\n",
    "            browser.find_element_by_class_name('mye4qd').click() # clicking on show more results \n",
    "            time.sleep(5)\n",
    "        except:\n",
    "            found=0\n",
    "    soup=BeautifulSoup(browser.page_source,'lxml')\n",
    "    img_urls=[img for img in soup.find_all('img',class_='rg_i Q4LuWd')]\n",
    "    return img_urls\n",
    "def clean_garbage_files(query): # cleaning all which are not image from directory \n",
    "    root=query\n",
    "    for folder in os.listdir(root):\n",
    "        for image in os.listdir(root+'/'+folder):\n",
    "            if os.stat(root+'/'+folder+'/'+image).st_size <=1:\n",
    "                try:\n",
    "                    os.remove(root+'/'+folder+'/'+image)\n",
    "                except:\n",
    "                    pass\n",
    "\n",
    "# Accessing all urls available for given input \n",
    "def find(query='flower'):\n",
    "    global titles  # taking title and total_urls as global so interuption cannot affect retrieved urls \n",
    "    global total_urls\n",
    "    browser=webdriver.Chrome('./chromedriver')  # open webdriver file available in device for chrome\n",
    "    browser.get('https://www.google.com/')\n",
    "#   browser.fullscreen_window()\n",
    "    search=browser.find_element_by_class_name('gLFyf')#google input automation\n",
    "    search.send_keys(query+' image')\n",
    "    time.sleep(1)\n",
    "    search.send_keys(Keys.ENTER)\n",
    "    time.sleep(1)\n",
    "    browser.find_element_by_class_name('Q2MMlc').click()  # clicking so more results for input query on google images\n",
    "    time.sleep(1)\n",
    "#   Accessing image home page base\n",
    "    titles.append('Home') # for home url \n",
    "    total_urls.append(list(set(images(browser)))) # appending all topics available on google \n",
    "    soup=BeautifulSoup(browser.page_source,'lxml') # scrapping all urls on home page\n",
    "    titles.extend([link for link in soup.find_all('a',class_='F9PbJd IJRrpb xKddTc')])\n",
    "    browser.close()\n",
    "#   Accessing images topic based \n",
    "    for url in titles[1:]:  # for retriving all topics url \n",
    "        browser=webdriver.Chrome('./chromedriver')\n",
    "        browser.get('https://www.google.com'+url['href'])\n",
    "#       browser.fullscreen_window()\n",
    "        time.sleep(1)\n",
    "        total_urls.append(list(set(images(browser))))\n",
    "        browser.close()\n",
    "    print(\"Categories found : \"+str(len(total_urls)))\n",
    "    browser.close()\n"
   ]
  },
  {
   "cell_type": "code",
   "execution_count": null,
   "metadata": {},
   "outputs": [
    {
     "name": "stdout",
     "output_type": "stream",
     "text": [
      "string indices must be integers\n",
      "Downloading  : Home under Sukhasana\n"
     ]
    }
   ],
   "source": [
    "def google_image(query):\n",
    "#     query=input()\n",
    "    try:\n",
    "        find(query)\n",
    "    except Exception as e:\n",
    "        print(e)\n",
    "    save_images(total_urls,titles,query)\n",
    "    clean_garbage_files(query)\n",
    "google_image('Sukhasana')"
   ]
  },
  {
   "cell_type": "code",
   "execution_count": null,
   "metadata": {},
   "outputs": [],
   "source": []
  },
  {
   "cell_type": "code",
   "execution_count": null,
   "metadata": {},
   "outputs": [],
   "source": []
  },
  {
   "cell_type": "code",
   "execution_count": null,
   "metadata": {},
   "outputs": [],
   "source": []
  },
  {
   "cell_type": "code",
   "execution_count": 36,
   "metadata": {},
   "outputs": [],
   "source": [
    "# query='flower'\n",
    "# browser=webdriver.Chrome('./chromedriver')\n",
    "# browser.get('https://www.google.com/')\n",
    "# search=browser.find_element_by_xpath('//*[@id=\"tsf\"]/div[2]/div[1]/div[1]/div/div[2]/input')\n",
    "# search.send_keys(query+' image')\n",
    "# time.sleep(1)\n",
    "# search.send_keys(Keys.ENTER)\n",
    "# time.sleep(3)\n",
    "# browser.find_element_by_class_name('Q2MMlc').click()\n",
    "# time.sleep(3)\n",
    "# soup=BeautifulSoup(browser.page_source,'lxml')\n",
    "# titles=[link['href'] for link in soup.find_all('a',class_='F9PbJd IJRrpb xKddTc')]\n",
    "# total_urls=[]\n",
    "# for url in titles:\n",
    "#     browser=webdriver.Chrome('./chromedriver')\n",
    "#     browser.get('https://www.google.com'+url)\n",
    "#     time.sleep(3)\n",
    "#     total_urls.extend(images(browser))\n",
    "#     browser.close()"
   ]
  },
  {
   "cell_type": "code",
   "execution_count": null,
   "metadata": {},
   "outputs": [],
   "source": []
  },
  {
   "cell_type": "code",
   "execution_count": null,
   "metadata": {},
   "outputs": [],
   "source": []
  },
  {
   "cell_type": "code",
   "execution_count": null,
   "metadata": {},
   "outputs": [],
   "source": []
  }
 ],
 "metadata": {
  "kernelspec": {
   "display_name": "Python 3",
   "language": "python",
   "name": "python3"
  },
  "language_info": {
   "codemirror_mode": {
    "name": "ipython",
    "version": 3
   },
   "file_extension": ".py",
   "mimetype": "text/x-python",
   "name": "python",
   "nbconvert_exporter": "python",
   "pygments_lexer": "ipython3",
   "version": "3.6.9"
  }
 },
 "nbformat": 4,
 "nbformat_minor": 4
}
